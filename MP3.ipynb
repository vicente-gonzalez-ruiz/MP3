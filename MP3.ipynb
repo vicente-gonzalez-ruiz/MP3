{
 "cells": [
  {
   "cell_type": "markdown",
   "metadata": {},
   "source": [
    "# MPEG Audio Layer 3\n",
    "\n",
    "* Perceptual coders are based on a\n",
    "psychoacoustic model and take advantage of the\n",
    "masking properties of the human auditory system.\n",
    "\n",
    "* In contrast to lossless audio coding which is based on removing redundancy, lossy coding techniques make use of removing redundancy and irrelevancy based on perceptual criteria (http://staff.fh-hagenberg.at/schaffer/avt2/Docs/Perceptual_Audio_Coding_Tutorial.pdf). In contrast to a lossless coding system, a lossy\n",
    "compression schemes not only exploits the statistical\n",
    "redundancies but also the perceptual irrelevancies of\n",
    "the signal, as they result from the properties of the\n",
    "human auditory system. \n",
    "\n"
   ]
  },
  {
   "cell_type": "markdown",
   "metadata": {},
   "source": [
    "\\begin{itemize}\n",
    "\\item Developed by the MPEG Audio group (Fraunhofer IIS, University of\n",
    "  Hannover, AT\\&T-Bell Labs, Thomson-Brandt and CCETT (Centre Commun\n",
    "  d'\\'Etudes de T\\'el\\'evision et T\\'el\\'ecommunications)) in 1992.\n",
    "\\item Used in MP3 players, DVDs, etc.\n",
    "\\item Encoding algorithm:\n",
    "  \\begin{enumerate}\n",
    "  \\item Split the original PCM sequence into 32 PCM sequences, each\n",
    "    one for a specific frequency subband (subband coding).\n",
    "  \\item Transform each subband using the MDCT.\n",
    "  \\item Determine the quantization values for each subband using a\n",
    "    psycho-acoustic model.\n",
    "  \\item Lossless compress each MDCT subband sequence using Huffman coding.\n",
    "\\end{enumerate}\n",
    "\\end{itemize}\n"
   ]
  }
 ],
 "metadata": {
  "kernelspec": {
   "display_name": "Python 3",
   "language": "python",
   "name": "python3"
  },
  "language_info": {
   "codemirror_mode": {
    "name": "ipython",
    "version": 3
   },
   "file_extension": ".py",
   "mimetype": "text/x-python",
   "name": "python",
   "nbconvert_exporter": "python",
   "pygments_lexer": "ipython3",
   "version": "3.6.3"
  }
 },
 "nbformat": 4,
 "nbformat_minor": 2
}
