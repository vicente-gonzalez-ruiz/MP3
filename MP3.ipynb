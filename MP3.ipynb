{
 "cells": [
  {
   "cell_type": "markdown",
   "metadata": {},
   "source": [
    "# MPEG Audio Layer 3"
   ]
  },
  {
   "cell_type": "markdown",
   "metadata": {},
   "source": [
    "\\begin{itemize}\n",
    "\\item Developed by the MPEG Audio group (Fraunhofer IIS, University of\n",
    "  Hannover, AT\\&T-Bell Labs, Thomson-Brandt and CCETT (Centre Commun\n",
    "  d'\\'Etudes de T\\'el\\'evision et T\\'el\\'ecommunications)) in 1992.\n",
    "\\item Used in MP3 players, DVDs, etc.\n",
    "\\item Encoding algorithm:\n",
    "  \\begin{enumerate}\n",
    "  \\item Split the original PCM sequence into 32 PCM sequences, each\n",
    "    one for a specific frequency subband (subband coding).\n",
    "  \\item Transform each subband using the MDCT.\n",
    "  \\item Determine the quantization values for each subband using a\n",
    "    psycho-acoustic model.\n",
    "  \\item Lossless compress each MDCT subband sequence using Huffman coding.\n",
    "\\end{enumerate}\n",
    "\\end{itemize}\n"
   ]
  }
 ],
 "metadata": {
  "kernelspec": {
   "display_name": "Python 3",
   "language": "python",
   "name": "python3"
  },
  "language_info": {
   "codemirror_mode": {
    "name": "ipython",
    "version": 3
   },
   "file_extension": ".py",
   "mimetype": "text/x-python",
   "name": "python",
   "nbconvert_exporter": "python",
   "pygments_lexer": "ipython3",
   "version": "3.6.3"
  }
 },
 "nbformat": 4,
 "nbformat_minor": 2
}
