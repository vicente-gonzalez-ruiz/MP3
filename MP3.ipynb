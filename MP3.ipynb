{
 "cells": [
  {
   "cell_type": "markdown",
   "metadata": {},
   "source": [
    "# MPEG Audio\n",
    "\n",
    "* Input: a sequence of 16-bit PCM samples.\n",
    "\n",
    "* Output: a sequence of MPEG Audio frames (frame = header + code-stream) which can be streamed.\n",
    "\n",
    "```\n",
    "audio   +-----------+       +--------------+         +----------+\n",
    "channel | Time      |       | Quantization |         |          | MPEG audio\n",
    "---+--->| frequency |---+-->| and          |-------> | Framming |------->\n",
    "   |    | mapping   |   |   | coding       |         |          |\n",
    "   |    +-----------+   |   +--------------+         +----------+\n",
    "   |                    |           ^\n",
    "   |                    |           |\n",
    "   |                    |   +--------------+\n",
    "   |                    +-->| Phycho-      |\n",
    "   |                        | acustic      |\n",
    "   +----------------------->| model        |\n",
    "                            +--------------+\n",
    "```\n",
    "\n",
    "* The MPEG audio bitstream definition is normative. Most guidance about encoding\n",
    "is informative. Thus, two MPEG-compliant bitstreams that encode the same audio material at\n",
    "the same rate but on different encoders may sound very different. On the other hand, a given\n",
    "MPEG bitstream decoded on different decoders will result in essentially the same output."
   ]
  },
  {
   "cell_type": "markdown",
   "metadata": {},
   "source": [
    "## [Layer I](https://en.wikipedia.org/wiki/MPEG-1_Audio_Layer_I)\n",
    "\n",
    "* 4:1 compression (384 kbps).\n",
    "* CBR (Constant Bit-Rate)."
   ]
  },
  {
   "cell_type": "markdown",
   "metadata": {},
   "source": [
    "### Encoder\n",
    "\n",
    "1. Split $s[n]$ into blocks of $12\\times 32=384$ samples. For each block:\n",
    "   1. Analyze the block using a 32-band (analysis) filter bank, producing $12$ coeffs/subband (the coeffs are downsampled by $32$).\n",
    "   2. Scale each block of $12$ coeffs to ensure that the entire range of the selected quantizer will be used. Output the *scalefactor*.\n",
    "   3. Using the [FFT](https://en.wikipedia.org/wiki/Fast_Fourier_transform), compute the ATH for the block (considering the masking effects).\n",
    "   4. Let $R^*$ the bit-rate selected by the user. While the generated bit-rate $R\\leq R^*$:\n",
    "     1. Decrement the quantization step $\\Delta_b$ for each subband $b$, proportionally to the ATH in $b$. Compute $R$.\n",
    "   5. Output $\\{\\Delta_b\\}_{b=1}^{32}$ and the quantization indexes."
   ]
  },
  {
   "cell_type": "markdown",
   "metadata": {},
   "source": [
    "### Decoder\n",
    "\n",
    "1. For each input frame:\n",
    "   1. \"Dequantize\" the coeffs of each subband.\n",
    "   2. Re-scale the coeffs to their original dynamic range.\n",
    "   3. Apply the 32-band synthesis filters bank."
   ]
  },
  {
   "cell_type": "markdown",
   "metadata": {},
   "source": [
    "## [Layer II](https://en.wikipedia.org/wiki/MPEG-1_Audio_Layer_II)\n",
    "\n",
    "* 8:1 compression (174 kbps).\n",
    "* CBR (Constant Bit-Rate).\n",
    "* Increases block-size to $3\\times 12\\times 32=1152$ samples."
   ]
  },
  {
   "cell_type": "markdown",
   "metadata": {},
   "source": [
    "## [Layer III](https://en.wikipedia.org/wiki/MP3)\n",
    "\n",
    "* CBR and ABR (Averate Bit-Rate).\n",
    "* Typically, 128 kbps.\n",
    "* Increases block-size to $3\\times 12\\times 32=1152$ samples."
   ]
  },
  {
   "cell_type": "code",
   "execution_count": null,
   "metadata": {},
   "outputs": [],
   "source": []
  },
  {
   "cell_type": "markdown",
   "metadata": {},
   "source": [
    "\\begin{itemize}\n",
    "\\item Developed by the MPEG Audio group (Fraunhofer IIS, University of\n",
    "  Hannover, AT\\&T-Bell Labs, Thomson-Brandt and CCETT (Centre Commun\n",
    "  d'\\'Etudes de T\\'el\\'evision et T\\'el\\'ecommunications)) in 1992.\n",
    "\\item Used in MP3 players, DVDs, etc.\n",
    "\\item Encoding algorithm:\n",
    "  \\begin{enumerate}\n",
    "  \\item Split the original PCM sequence into 32 PCM sequences, each\n",
    "    one for a specific frequency subband (subband coding).\n",
    "  \\item Transform each subband using the MDCT.\n",
    "  \\item Determine the quantization values for each subband using a\n",
    "    psycho-acoustic model.\n",
    "  \\item Lossless compress each MDCT subband sequence using Huffman coding.\n",
    "\\end{enumerate}\n",
    "\\end{itemize}\n"
   ]
  }
 ],
 "metadata": {
  "kernelspec": {
   "display_name": "Python 3",
   "language": "python",
   "name": "python3"
  },
  "language_info": {
   "codemirror_mode": {
    "name": "ipython",
    "version": 3
   },
   "file_extension": ".py",
   "mimetype": "text/x-python",
   "name": "python",
   "nbconvert_exporter": "python",
   "pygments_lexer": "ipython3",
   "version": "3.6.3"
  }
 },
 "nbformat": 4,
 "nbformat_minor": 2
}
